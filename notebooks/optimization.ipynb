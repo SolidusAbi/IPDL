{
 "cells": [
  {
   "cell_type": "code",
   "execution_count": null,
   "metadata": {},
   "outputs": [],
   "source": [
    "import sys, os\n",
    "project_dir = os.path.split(os.getcwd())[0]\n",
    "if project_dir not in sys.path:\n",
    "    sys.path.append(project_dir)\n",
    "\n",
    "import torch\n",
    "from torch import Tensor, nn\n",
    "from IPDL import MatrixEstimator, ClassificationInformationPlane, AutoEncoderInformationPlane\n",
    "from IPDL.optim import AligmentOptimizer, SilvermanOptimizer\n",
    "\n",
    "import torchvision\n",
    "import torch.optim as optim\n",
    "from torch.utils.data import DataLoader\n",
    "from torchvision.transforms import Compose, ToTensor, Lambda\n",
    "from torch.nn.functional import one_hot\n",
    "from tqdm import tqdm\n",
    "\n",
    "device = 'cuda' if torch.cuda.is_available() else 'cpu'\n",
    "device = 'cpu'\n",
    "print(device)"
   ]
  },
  {
   "cell_type": "markdown",
   "metadata": {},
   "source": [
    "# RBF Kernel"
   ]
  },
  {
   "cell_type": "code",
   "execution_count": null,
   "metadata": {},
   "outputs": [],
   "source": [
    "from IPDL import TensorKernel\n",
    "\n",
    "def RBF(x: Tensor, sigma: float) -> Tensor:\n",
    "    '''\n",
    "        Tensor Based Radial Basis Function (RBF) Kernel\n",
    "\n",
    "        @param x: Tensor shape (n, features) or (batch, n, features)\n",
    "        @param sigma\n",
    "    '''\n",
    "    assert x.ndim > 1 and x.ndim < 4, \"The dimension of X must be 2 or 3\"\n",
    "    pairwise_difference = (torch.unsqueeze(x,x.ndim-1) - torch.unsqueeze(x,x.ndim-2))**2\n",
    "    distance = torch.sum(pairwise_difference, dim=x.ndim)\n",
    "    return torch.exp(-distance / (2*(sigma**2)) )"
   ]
  },
  {
   "cell_type": "code",
   "execution_count": null,
   "metadata": {},
   "outputs": [],
   "source": [
    "sigma = 5\n",
    "a = torch.rand(4, 32, 128).to(device)"
   ]
  },
  {
   "cell_type": "code",
   "execution_count": null,
   "metadata": {},
   "outputs": [],
   "source": [
    "rbf_result = RBF(a, sigma)\n",
    "A = rbf_result / rbf_result.size(-1)"
   ]
  },
  {
   "cell_type": "code",
   "execution_count": null,
   "metadata": {},
   "outputs": [],
   "source": [
    "print(\"Test RBF\")\n",
    "for i in range(len(a)):\n",
    "    _result = TensorKernel.RBF(a[i], sigma)\n",
    "    print(torch.all(torch.isclose(_result, rbf_result[i])))\n",
    "\n",
    "print(\"Test A\")\n",
    "len_x = a.size(1)\n",
    "for i in range(len(a)):\n",
    "    _result = TensorKernel.RBF(a[i], sigma) \n",
    "    _A = _result / len_x\n",
    "    print(torch.all(torch.isclose(_A, A[i])))"
   ]
  },
  {
   "cell_type": "markdown",
   "metadata": {},
   "source": [
    "# Entropy"
   ]
  },
  {
   "cell_type": "code",
   "execution_count": null,
   "metadata": {},
   "outputs": [],
   "source": [
    "# sigma = 5\n",
    "# a = torch.rand(32, 128)"
   ]
  },
  {
   "cell_type": "code",
   "execution_count": null,
   "metadata": {},
   "outputs": [],
   "source": [
    "from IPDL import MatrixBasedRenyisEntropy as MRE\n",
    "\n",
    "def entropy(A: Tensor) -> float:\n",
    "    eigval, _ = torch.linalg.eigh(A)        \n",
    "    epsilon = 1e-8\n",
    "    eigval = eigval.abs() + epsilon \n",
    "    return -torch.sum(eigval*(torch.log2(eigval)), dim=eigval.ndim-1)"
   ]
  },
  {
   "cell_type": "code",
   "execution_count": null,
   "metadata": {},
   "outputs": [],
   "source": [
    "entropy_result = entropy(A)\n",
    "_entropy_result = []\n",
    "for i in range(len(a)):\n",
    "    _entropy_result.append(MRE.entropy(A[i]))\n",
    "\n",
    "print(torch.isclose(torch.hstack(_entropy_result), entropy_result))"
   ]
  },
  {
   "cell_type": "code",
   "execution_count": null,
   "metadata": {},
   "outputs": [],
   "source": [
    "print(torch.hstack(_entropy_result))\n",
    "print(entropy_result)\n",
    "\n",
    "torch.hstack(_entropy_result) == entropy_result"
   ]
  },
  {
   "cell_type": "markdown",
   "metadata": {},
   "source": [
    "# Joint entropy"
   ]
  },
  {
   "cell_type": "code",
   "execution_count": null,
   "metadata": {},
   "outputs": [],
   "source": [
    "sigma = 5\n",
    "a = torch.rand(32, 128).to(device)\n",
    "b = torch.rand(4, 32, 128).to(device)\n",
    "\n",
    "rbf_result = RBF(a, sigma)\n",
    "A = rbf_result / rbf_result.size(-1)\n",
    "\n",
    "rbf_result = RBF(b, sigma)\n",
    "B =  rbf_result / rbf_result.size(-1)"
   ]
  },
  {
   "cell_type": "code",
   "execution_count": null,
   "metadata": {},
   "outputs": [],
   "source": [
    "def jointEntropy(Kx: Tensor, *args: Tensor) -> float:\n",
    "    '''\n",
    "        Parameters\n",
    "        ----------\n",
    "            Kx: Tensor\n",
    "\n",
    "            args: More tensors!!!\n",
    "    '''\n",
    "    A = Kx.clone()\n",
    "    for val in args:\n",
    "        A = A * val\n",
    "    \n",
    "    A = A/A.trace() if A.ndim == 2 else A/(torch.sum(A.diagonal(offset=0, dim1=-1, dim2=-2), dim=1).reshape(-1,1,1))\n",
    "    return entropy(A)"
   ]
  },
  {
   "cell_type": "code",
   "execution_count": null,
   "metadata": {},
   "outputs": [],
   "source": [
    "from IPDL import MatrixBasedRenyisEntropy as MRE\n",
    "\n",
    "je_result = jointEntropy(A, B)\n",
    "_je_result = []\n",
    "for i in range(len(B)):\n",
    "    _je_result.append(MRE.jointEntropy(A, B[i]))\n",
    "\n",
    "print(torch.isclose(torch.hstack(_je_result), je_result))\n",
    "print(torch.stack(_je_result) == je_result)"
   ]
  },
  {
   "cell_type": "code",
   "execution_count": null,
   "metadata": {},
   "outputs": [],
   "source": [
    "je_result2 = jointEntropy(B, A)\n",
    "print(je_result)\n",
    "print(je_result2)\n",
    "print(je_result == je_result2)"
   ]
  },
  {
   "cell_type": "markdown",
   "metadata": {},
   "source": [
    "# Mutual Information"
   ]
  },
  {
   "cell_type": "code",
   "execution_count": null,
   "metadata": {},
   "outputs": [],
   "source": [
    "from IPDL import MatrixBasedRenyisEntropy as MRE\n",
    "\n",
    "def mutualInformation(Ax: Tensor, Ay: Tensor) -> float:\n",
    "    entropy_Ax = entropy(Ax)\n",
    "    entropy_Ay = entropy(Ay)\n",
    "    joint_entropy = jointEntropy(Ax, Ay)\n",
    "    return (entropy_Ax + entropy_Ay - joint_entropy)"
   ]
  },
  {
   "cell_type": "code",
   "execution_count": null,
   "metadata": {},
   "outputs": [],
   "source": [
    "sigma = 5\n",
    "a = torch.rand(12, 128).to(device)\n",
    "b = torch.rand(4, 12, 128).to(device)\n",
    "\n",
    "rbf_result = RBF(a, sigma)\n",
    "A = rbf_result / rbf_result.size(-1)\n",
    "\n",
    "rbf_result = RBF(b, sigma)\n",
    "B =  rbf_result / rbf_result.size(-1)"
   ]
  },
  {
   "cell_type": "code",
   "execution_count": null,
   "metadata": {},
   "outputs": [],
   "source": [
    "entropy_Ax = entropy(A)\n",
    "entropy_Ay = entropy(B)\n",
    "joint_entropy = jointEntropy(A, B)\n",
    "\n",
    "print(entropy_Ax.shape)\n",
    "print(entropy_Ay.shape)\n",
    "print(joint_entropy.shape)"
   ]
  },
  {
   "cell_type": "code",
   "execution_count": null,
   "metadata": {},
   "outputs": [],
   "source": [
    "entropy_Ax + entropy_Ay - joint_entropy"
   ]
  },
  {
   "cell_type": "code",
   "execution_count": null,
   "metadata": {},
   "outputs": [],
   "source": [
    "mi_estimation = mutualInformation(A, B)\n",
    "\n",
    "_mi_estimation = []\n",
    "for i in range(len(B)):\n",
    "    _mi_estimation.append(MRE.mutualInformation(A, B[i]))\n",
    "\n",
    "print(torch.isclose(torch.stack(_mi_estimation), mi_estimation, rtol=1e-5))"
   ]
  },
  {
   "cell_type": "code",
   "execution_count": null,
   "metadata": {},
   "outputs": [],
   "source": [
    "print(torch.stack(_mi_estimation))\n",
    "print(mi_estimation)"
   ]
  },
  {
   "cell_type": "code",
   "execution_count": null,
   "metadata": {},
   "outputs": [],
   "source": [
    "print(A.shape)\n",
    "print(B.shape)"
   ]
  },
  {
   "cell_type": "code",
   "execution_count": null,
   "metadata": {},
   "outputs": [],
   "source": [
    "print(jointEntropy(A, B))\n",
    "print(jointEntropy(B, A))\n",
    "mi_estimation2 = mutualInformation(B, A)\n",
    "\n",
    "mi_estimation == mi_estimation2\n"
   ]
  },
  {
   "cell_type": "code",
   "execution_count": null,
   "metadata": {},
   "outputs": [],
   "source": [
    "mi_estimation2"
   ]
  },
  {
   "cell_type": "code",
   "execution_count": null,
   "metadata": {},
   "outputs": [],
   "source": [
    "print(torch.stack(_mi_estimation))\n",
    "print(mi_estimation)"
   ]
  },
  {
   "cell_type": "code",
   "execution_count": null,
   "metadata": {},
   "outputs": [],
   "source": []
  },
  {
   "cell_type": "code",
   "execution_count": null,
   "metadata": {},
   "outputs": [],
   "source": []
  }
 ],
 "metadata": {
  "interpreter": {
   "hash": "15b37510c40f952771730cdce6ed2555d8094a99b7d6886f5b16bebe3e0bdfae"
  },
  "kernelspec": {
   "display_name": "Python 3.9.7 ('HySpecLab')",
   "language": "python",
   "name": "python3"
  },
  "language_info": {
   "codemirror_mode": {
    "name": "ipython",
    "version": 3
   },
   "file_extension": ".py",
   "mimetype": "text/x-python",
   "name": "python",
   "nbconvert_exporter": "python",
   "pygments_lexer": "ipython3",
   "version": "3.9.7"
  },
  "orig_nbformat": 4
 },
 "nbformat": 4,
 "nbformat_minor": 2
}
