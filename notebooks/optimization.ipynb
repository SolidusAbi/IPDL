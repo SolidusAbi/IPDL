{
 "cells": [
  {
   "cell_type": "code",
   "execution_count": 1,
   "metadata": {},
   "outputs": [],
   "source": [
    "import sys, os\n",
    "project_dir = os.path.split(os.getcwd())[0]\n",
    "if project_dir not in sys.path:\n",
    "    sys.path.append(project_dir)\n",
    "\n",
    "import torch\n",
    "from torch import Tensor, nn\n",
    "from IPDL import MatrixEstimator, ClassificationInformationPlane, AutoEncoderInformationPlane\n",
    "from IPDL.optim import AligmentOptimizer, SilvermanOptimizer\n",
    "\n",
    "import torchvision\n",
    "import torch.optim as optim\n",
    "from torch.utils.data import DataLoader\n",
    "from torchvision.transforms import Compose, ToTensor, Lambda\n",
    "from torch.nn.functional import one_hot\n",
    "from tqdm import tqdm\n",
    "\n",
    "device = 'cuda' if torch.cuda.is_available() else 'cpu'"
   ]
  },
  {
   "cell_type": "code",
   "execution_count": 83,
   "metadata": {},
   "outputs": [],
   "source": [
    "from IPDL import TensorKernel\n",
    "\n",
    "def RBF(x: Tensor, sigma: float) -> Tensor:\n",
    "    '''\n",
    "        Tensor Based Radial Basis Function (RBF) Kernel\n",
    "\n",
    "        @param x: Tensor shape (n, features) or (batch, n, features)\n",
    "        @param sigma\n",
    "    '''\n",
    "    assert x.ndim > 1 and x.ndim < 4, \"The dimension of X must be 2 or 3\"\n",
    "    pairwise_difference = (torch.unsqueeze(x,x.ndim-1) - torch.unsqueeze(x,x.ndim-2))**2\n",
    "    distance = torch.sum(pairwise_difference, dim=x.ndim)\n",
    "    return torch.exp(-distance / (2*(sigma**2)) )"
   ]
  },
  {
   "cell_type": "code",
   "execution_count": 84,
   "metadata": {},
   "outputs": [],
   "source": [
    "sigma = 5\n",
    "a = torch.rand(4, 32, 128).cuda()"
   ]
  },
  {
   "cell_type": "code",
   "execution_count": 85,
   "metadata": {},
   "outputs": [],
   "source": [
    "rbf_result = RBF(a, sigma)\n",
    "A = rbf_result / rbf_result.size(-1)"
   ]
  },
  {
   "cell_type": "code",
   "execution_count": 89,
   "metadata": {},
   "outputs": [
    {
     "name": "stdout",
     "output_type": "stream",
     "text": [
      "Test RBF\n",
      "tensor(True, device='cuda:0')\n",
      "tensor(True, device='cuda:0')\n",
      "tensor(True, device='cuda:0')\n",
      "tensor(True, device='cuda:0')\n",
      "Test A\n",
      "tensor(True, device='cuda:0')\n",
      "tensor(True, device='cuda:0')\n",
      "tensor(True, device='cuda:0')\n",
      "tensor(True, device='cuda:0')\n"
     ]
    }
   ],
   "source": [
    "print(\"Test RBF\")\n",
    "for i in range(len(a)):\n",
    "    _result = TensorKernel.RBF(a[i], sigma)\n",
    "    print(torch.all(torch.isclose(_result, rbf_result[i])))\n",
    "\n",
    "print(\"Test A\")\n",
    "for i in range(len(a)):\n",
    "    _result = TensorKernel.RBF(a[i], sigma) \n",
    "    _A = _result / _result.size(-1)\n",
    "    print(torch.all(torch.isclose(_A, A[i])))"
   ]
  },
  {
   "cell_type": "code",
   "execution_count": 117,
   "metadata": {},
   "outputs": [],
   "source": [
    "from IPDL import MatrixBasedRenyisEntropy as MRE\n",
    "\n",
    "def entropy(A: Tensor) -> float:\n",
    "    eigval, _ = torch.linalg.eigh(A)        \n",
    "    epsilon = 1e-8\n",
    "    eigval = eigval.abs() + epsilon \n",
    "    return -torch.sum(eigval*(torch.log2(eigval)), dim=eigval.ndim-1)"
   ]
  },
  {
   "cell_type": "code",
   "execution_count": 119,
   "metadata": {},
   "outputs": [
    {
     "name": "stdout",
     "output_type": "stream",
     "text": [
      "tensor([True, True, True, True], device='cuda:0')\n"
     ]
    }
   ],
   "source": [
    "entropy_result = entropy(A)\n",
    "_entropy_result = []\n",
    "for i in range(len(a)):\n",
    "    _entropy_result.append(MRE.entropy(A[i]))\n",
    "\n",
    "print(torch.isclose(torch.hstack(_entropy_result), entropy_result))"
   ]
  },
  {
   "cell_type": "code",
   "execution_count": 121,
   "metadata": {},
   "outputs": [
    {
     "name": "stdout",
     "output_type": "stream",
     "text": [
      "tensor([2.5126, 2.5617, 2.5521, 2.5437], device='cuda:0')\n",
      "tensor([2.5126, 2.5617, 2.5521, 2.5437], device='cuda:0')\n"
     ]
    }
   ],
   "source": [
    "print(torch.hstack(_entropy_result))\n",
    "print(entropy_result)"
   ]
  },
  {
   "cell_type": "code",
   "execution_count": 109,
   "metadata": {},
   "outputs": [
    {
     "name": "stdout",
     "output_type": "stream",
     "text": [
      "tensor([2.5126, 2.5617, 2.5521, 2.5437], device='cuda:0')\n"
     ]
    }
   ],
   "source": [
    "eigval, _ = torch.linalg.eigh(A)    \n",
    "epsilon = 1e-8\n",
    "eigval = eigval.abs() + epsilon \n",
    "\n",
    "entropy = -torch.sum(eigval*(torch.log2(eigval)), dim=1)\n",
    "print(entropy)"
   ]
  },
  {
   "cell_type": "code",
   "execution_count": 110,
   "metadata": {},
   "outputs": [
    {
     "name": "stdout",
     "output_type": "stream",
     "text": [
      "torch.Size([32])\n",
      "tensor(2.5437, device='cuda:0')\n"
     ]
    }
   ],
   "source": [
    "_eigval, _ = torch.linalg.eigh(_A)\n",
    "epsilon = 1e-8\n",
    "_eigval = _eigval.abs() + epsilon \n",
    "\n",
    "print(_eigval.shape)\n",
    "print(-torch.sum(_eigval*(torch.log2(_eigval))))"
   ]
  },
  {
   "cell_type": "code",
   "execution_count": 111,
   "metadata": {},
   "outputs": [
    {
     "name": "stdout",
     "output_type": "stream",
     "text": [
      "tensor([True, True, True, True], device='cuda:0')\n"
     ]
    }
   ],
   "source": [
    "_entropy = []\n",
    "for i in range(len(a)):\n",
    "    _result = TensorKernel.RBF(a[i], sigma) \n",
    "    _A = _result / _result.size(-1)\n",
    "\n",
    "    _eigval, _ = torch.linalg.eigh(_A)\n",
    "    epsilon = 1e-8\n",
    "    _eigval = _eigval.abs() + epsilon \n",
    "\n",
    "    _entropy.append(-torch.sum(_eigval*(torch.log2(_eigval)))) \n",
    "\n",
    "print(torch.isclose(torch.hstack(_entropy), entropy))"
   ]
  },
  {
   "cell_type": "code",
   "execution_count": 112,
   "metadata": {},
   "outputs": [
    {
     "data": {
      "text/plain": [
       "1"
      ]
     },
     "execution_count": 112,
     "metadata": {},
     "output_type": "execute_result"
    }
   ],
   "source": [
    "_eigval.ndim"
   ]
  },
  {
   "cell_type": "code",
   "execution_count": 107,
   "metadata": {},
   "outputs": [
    {
     "data": {
      "text/plain": [
       "2"
      ]
     },
     "execution_count": 107,
     "metadata": {},
     "output_type": "execute_result"
    }
   ],
   "source": [
    "eigval.ndim"
   ]
  },
  {
   "cell_type": "code",
   "execution_count": 98,
   "metadata": {},
   "outputs": [
    {
     "data": {
      "text/plain": [
       "tensor([2.5126, 2.5617, 2.5521, 2.5437], device='cuda:0')"
      ]
     },
     "execution_count": 98,
     "metadata": {},
     "output_type": "execute_result"
    }
   ],
   "source": [
    "entropy"
   ]
  },
  {
   "cell_type": "code",
   "execution_count": null,
   "metadata": {},
   "outputs": [],
   "source": []
  },
  {
   "cell_type": "code",
   "execution_count": null,
   "metadata": {},
   "outputs": [],
   "source": []
  },
  {
   "cell_type": "code",
   "execution_count": 13,
   "metadata": {},
   "outputs": [],
   "source": [
    "a = torch.rand(4, 32, 128)\n",
    "_x = a.flatten(2)\n",
    "pairwise_difference = (torch.unsqueeze(_x,2) - torch.unsqueeze(_x,1))**2\n",
    "distance = torch.sum(pairwise_difference, dim=3)"
   ]
  },
  {
   "cell_type": "code",
   "execution_count": 4,
   "metadata": {},
   "outputs": [],
   "source": [
    "_x = a.flatten(2)\n",
    "test = []\n",
    "for i in range(len(_x)):\n",
    "    _x = a[i].flatten(1)\n",
    "    pairwise_difference = (torch.unsqueeze(_x,1) - torch.unsqueeze(_x,0))**2\n",
    "    _distance = torch.sum(pairwise_difference, dim=2)\n",
    "    test.append(_distance)\n"
   ]
  },
  {
   "cell_type": "code",
   "execution_count": 5,
   "metadata": {},
   "outputs": [
    {
     "data": {
      "text/plain": [
       "tensor(True)"
      ]
     },
     "execution_count": 5,
     "metadata": {},
     "output_type": "execute_result"
    }
   ],
   "source": [
    "torch.all(torch.isclose(torch.stack(test), distance))"
   ]
  },
  {
   "cell_type": "code",
   "execution_count": 6,
   "metadata": {},
   "outputs": [
    {
     "data": {
      "text/plain": [
       "tensor([[1.0000, 0.6446, 0.6807,  ..., 0.6551, 0.6759, 0.6175],\n",
       "        [0.6446, 1.0000, 0.6532,  ..., 0.6817, 0.7006, 0.6175],\n",
       "        [0.6807, 0.6532, 1.0000,  ..., 0.6643, 0.6375, 0.6440],\n",
       "        ...,\n",
       "        [0.6551, 0.6817, 0.6643,  ..., 1.0000, 0.6694, 0.6276],\n",
       "        [0.6759, 0.7006, 0.6375,  ..., 0.6694, 1.0000, 0.6789],\n",
       "        [0.6175, 0.6175, 0.6440,  ..., 0.6276, 0.6789, 1.0000]])"
      ]
     },
     "execution_count": 6,
     "metadata": {},
     "output_type": "execute_result"
    }
   ],
   "source": [
    "_x = a[0].flatten(1)\n",
    "RBF(a[0].flatten(1), sigma=5, axis=0)\n"
   ]
  },
  {
   "cell_type": "code",
   "execution_count": 7,
   "metadata": {},
   "outputs": [
    {
     "ename": "IndexError",
     "evalue": "index 1 is out of bounds for dimension 0 with size 1",
     "output_type": "error",
     "traceback": [
      "\u001b[0;31m---------------------------------------------------------------------------\u001b[0m",
      "\u001b[0;31mIndexError\u001b[0m                                Traceback (most recent call last)",
      "\u001b[0;32m/tmp/ipykernel_27924/1095875716.py\u001b[0m in \u001b[0;36m<module>\u001b[0;34m\u001b[0m\n\u001b[1;32m      2\u001b[0m \u001b[0m_x\u001b[0m \u001b[0;34m=\u001b[0m \u001b[0ma\u001b[0m\u001b[0;34m.\u001b[0m\u001b[0mflatten\u001b[0m\u001b[0;34m(\u001b[0m\u001b[0;36m2\u001b[0m\u001b[0;34m)\u001b[0m\u001b[0;34m\u001b[0m\u001b[0;34m\u001b[0m\u001b[0m\n\u001b[1;32m      3\u001b[0m \u001b[0;32mfor\u001b[0m \u001b[0mi\u001b[0m \u001b[0;32min\u001b[0m \u001b[0mrange\u001b[0m\u001b[0;34m(\u001b[0m\u001b[0mlen\u001b[0m\u001b[0;34m(\u001b[0m\u001b[0ma\u001b[0m\u001b[0;34m)\u001b[0m\u001b[0;34m)\u001b[0m\u001b[0;34m:\u001b[0m\u001b[0;34m\u001b[0m\u001b[0;34m\u001b[0m\u001b[0m\n\u001b[0;32m----> 4\u001b[0;31m     \u001b[0mprint\u001b[0m\u001b[0;34m(\u001b[0m\u001b[0mtorch\u001b[0m\u001b[0;34m.\u001b[0m\u001b[0mall\u001b[0m\u001b[0;34m(\u001b[0m\u001b[0mRBF\u001b[0m\u001b[0;34m(\u001b[0m\u001b[0ma\u001b[0m\u001b[0;34m[\u001b[0m\u001b[0;36m1\u001b[0m\u001b[0;34m]\u001b[0m\u001b[0;34m.\u001b[0m\u001b[0mflatten\u001b[0m\u001b[0;34m(\u001b[0m\u001b[0;36m1\u001b[0m\u001b[0;34m)\u001b[0m\u001b[0;34m,\u001b[0m \u001b[0msigma\u001b[0m\u001b[0;34m=\u001b[0m\u001b[0;36m5\u001b[0m\u001b[0;34m,\u001b[0m \u001b[0maxis\u001b[0m\u001b[0;34m=\u001b[0m\u001b[0;36m0\u001b[0m\u001b[0;34m)\u001b[0m \u001b[0;34m==\u001b[0m \u001b[0mRBF\u001b[0m\u001b[0;34m(\u001b[0m\u001b[0ma\u001b[0m\u001b[0;34m.\u001b[0m\u001b[0mflatten\u001b[0m\u001b[0;34m(\u001b[0m\u001b[0;36m2\u001b[0m\u001b[0;34m)\u001b[0m\u001b[0;34m,\u001b[0m \u001b[0msigma\u001b[0m\u001b[0;34m=\u001b[0m\u001b[0;36m5\u001b[0m\u001b[0;34m,\u001b[0m \u001b[0maxis\u001b[0m\u001b[0;34m=\u001b[0m\u001b[0;36m1\u001b[0m\u001b[0;34m)\u001b[0m\u001b[0;34m[\u001b[0m\u001b[0;36m1\u001b[0m\u001b[0;34m]\u001b[0m\u001b[0;34m)\u001b[0m\u001b[0;34m)\u001b[0m\u001b[0;34m\u001b[0m\u001b[0;34m\u001b[0m\u001b[0m\n\u001b[0m",
      "\u001b[0;31mIndexError\u001b[0m: index 1 is out of bounds for dimension 0 with size 1"
     ]
    }
   ],
   "source": [
    "for i in range(len(a)):\n",
    "    print(torch.all(RBF(a[1].flatten(1), sigma=5, axis=0) == RBF(a.flatten(2), sigma=5, axis=1)[1]))\n"
   ]
  },
  {
   "cell_type": "code",
   "execution_count": 11,
   "metadata": {},
   "outputs": [
    {
     "data": {
      "text/plain": [
       "tensor([[1.0000e+00, 1.0841e-06, 1.0598e-06, 8.3019e-07],\n",
       "        [1.0841e-06, 1.0000e+00, 1.6050e-06, 9.3722e-07],\n",
       "        [1.0598e-06, 1.6050e-06, 1.0000e+00, 1.0424e-06],\n",
       "        [8.3019e-07, 9.3722e-07, 1.0424e-06, 1.0000e+00]])"
      ]
     },
     "execution_count": 11,
     "metadata": {},
     "output_type": "execute_result"
    }
   ],
   "source": [
    "a = torch.rand(1,4, 32, 128)\n",
    "RBF(a[0].flatten(1), sigma=5, axis=1)"
   ]
  },
  {
   "cell_type": "code",
   "execution_count": null,
   "metadata": {},
   "outputs": [],
   "source": [
    "result = RBF(a.flatten(2), sigma=5, axis=1)"
   ]
  },
  {
   "cell_type": "code",
   "execution_count": null,
   "metadata": {},
   "outputs": [],
   "source": [
    "result\n",
    "c, _ = torch.linalg.eigh(result)\n",
    "a.shape"
   ]
  },
  {
   "cell_type": "code",
   "execution_count": null,
   "metadata": {},
   "outputs": [],
   "source": [
    "eigv = []\n",
    "for i in range(len(a)):\n",
    "    _result = RBF(a[i].flatten(1), sigma=5, axis=0)\n",
    "    e, _ = torch.linalg.eigh(_result)\n",
    "    print(e.shape)\n",
    "    eigv.append(e)"
   ]
  },
  {
   "cell_type": "code",
   "execution_count": null,
   "metadata": {},
   "outputs": [],
   "source": [
    "torch.stack(eigv).shape"
   ]
  },
  {
   "cell_type": "code",
   "execution_count": null,
   "metadata": {},
   "outputs": [],
   "source": [
    "torch.all(torch.isclose(torch.stack(eigv), c))"
   ]
  },
  {
   "cell_type": "code",
   "execution_count": null,
   "metadata": {},
   "outputs": [],
   "source": [
    "def entropy2(A: Tensor) -> float:\n",
    "    eigval, _ = torch.linalg.eigh(A)        \n",
    "    epsilon = 1e-8\n",
    "    eigval = eigval.abs() + epsilon \n",
    "    return -torch.sum(eigval*(torch.log2(eigval)))"
   ]
  },
  {
   "cell_type": "code",
   "execution_count": null,
   "metadata": {},
   "outputs": [],
   "source": [
    "a[i].flatten(1)"
   ]
  },
  {
   "cell_type": "code",
   "execution_count": null,
   "metadata": {},
   "outputs": [],
   "source": [
    "a.shape"
   ]
  },
  {
   "cell_type": "code",
   "execution_count": null,
   "metadata": {},
   "outputs": [],
   "source": []
  }
 ],
 "metadata": {
  "interpreter": {
   "hash": "15b37510c40f952771730cdce6ed2555d8094a99b7d6886f5b16bebe3e0bdfae"
  },
  "kernelspec": {
   "display_name": "Python 3.9.7 ('HySpecLab')",
   "language": "python",
   "name": "python3"
  },
  "language_info": {
   "codemirror_mode": {
    "name": "ipython",
    "version": 3
   },
   "file_extension": ".py",
   "mimetype": "text/x-python",
   "name": "python",
   "nbconvert_exporter": "python",
   "pygments_lexer": "ipython3",
   "version": "3.9.7"
  },
  "orig_nbformat": 4
 },
 "nbformat": 4,
 "nbformat_minor": 2
}
