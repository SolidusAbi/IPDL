{
 "cells": [
  {
   "cell_type": "code",
   "execution_count": 1,
   "metadata": {},
   "outputs": [],
   "source": [
    "import sys, os\n",
    "project_dir = os.path.split(os.getcwd())[0]\n",
    "if project_dir not in sys.path:\n",
    "    sys.path.append(project_dir)\n",
    "\n",
    "import torch\n",
    "from torch import Tensor, nn\n",
    "from IPDL import MatrixEstimator, ClassificationInformationPlane, AutoEncoderInformationPlane\n",
    "from IPDL.optim import AligmentOptimizer, SilvermanOptimizer\n",
    "\n",
    "import torchvision\n",
    "import torch.optim as optim\n",
    "from torch.utils.data import DataLoader\n",
    "from torchvision.transforms import Compose, ToTensor, Lambda\n",
    "from torch.nn.functional import one_hot\n",
    "from tqdm import tqdm\n",
    "\n",
    "device = 'cuda' if torch.cuda.is_available() else 'cpu'"
   ]
  },
  {
   "cell_type": "markdown",
   "metadata": {},
   "source": [
    "# RBF Kernel"
   ]
  },
  {
   "cell_type": "code",
   "execution_count": 2,
   "metadata": {},
   "outputs": [],
   "source": [
    "from IPDL import TensorKernel\n",
    "\n",
    "def RBF(x: Tensor, sigma: float) -> Tensor:\n",
    "    '''\n",
    "        Tensor Based Radial Basis Function (RBF) Kernel\n",
    "\n",
    "        @param x: Tensor shape (n, features) or (batch, n, features)\n",
    "        @param sigma\n",
    "    '''\n",
    "    assert x.ndim > 1 and x.ndim < 4, \"The dimension of X must be 2 or 3\"\n",
    "    pairwise_difference = (torch.unsqueeze(x,x.ndim-1) - torch.unsqueeze(x,x.ndim-2))**2\n",
    "    distance = torch.sum(pairwise_difference, dim=x.ndim)\n",
    "    return torch.exp(-distance / (2*(sigma**2)) )"
   ]
  },
  {
   "cell_type": "code",
   "execution_count": 3,
   "metadata": {},
   "outputs": [],
   "source": [
    "sigma = 5\n",
    "a = torch.rand(4, 32, 128).cuda()"
   ]
  },
  {
   "cell_type": "code",
   "execution_count": 4,
   "metadata": {},
   "outputs": [],
   "source": [
    "rbf_result = RBF(a, sigma)\n",
    "A = rbf_result / rbf_result.size(-1)"
   ]
  },
  {
   "cell_type": "code",
   "execution_count": 5,
   "metadata": {},
   "outputs": [
    {
     "name": "stdout",
     "output_type": "stream",
     "text": [
      "Test RBF\n",
      "tensor(True, device='cuda:0')\n",
      "tensor(True, device='cuda:0')\n",
      "tensor(True, device='cuda:0')\n",
      "tensor(True, device='cuda:0')\n",
      "Test A\n",
      "tensor(True, device='cuda:0')\n",
      "tensor(True, device='cuda:0')\n",
      "tensor(True, device='cuda:0')\n",
      "tensor(True, device='cuda:0')\n"
     ]
    }
   ],
   "source": [
    "print(\"Test RBF\")\n",
    "for i in range(len(a)):\n",
    "    _result = TensorKernel.RBF(a[i], sigma)\n",
    "    print(torch.all(torch.isclose(_result, rbf_result[i])))\n",
    "\n",
    "print(\"Test A\")\n",
    "for i in range(len(a)):\n",
    "    _result = TensorKernel.RBF(a[i], sigma) \n",
    "    _A = _result / _result.size(-1)\n",
    "    print(torch.all(torch.isclose(_A, A[i])))"
   ]
  },
  {
   "cell_type": "markdown",
   "metadata": {},
   "source": [
    "# Entropy"
   ]
  },
  {
   "cell_type": "code",
   "execution_count": 6,
   "metadata": {},
   "outputs": [],
   "source": [
    "from IPDL import MatrixBasedRenyisEntropy as MRE\n",
    "\n",
    "def entropy(A: Tensor) -> float:\n",
    "    eigval, _ = torch.linalg.eigh(A)        \n",
    "    epsilon = 1e-8\n",
    "    eigval = eigval.abs() + epsilon \n",
    "    return -torch.sum(eigval*(torch.log2(eigval)), dim=eigval.ndim-1)"
   ]
  },
  {
   "cell_type": "code",
   "execution_count": 7,
   "metadata": {},
   "outputs": [
    {
     "name": "stdout",
     "output_type": "stream",
     "text": [
      "tensor([True, True, True, True], device='cuda:0')\n"
     ]
    }
   ],
   "source": [
    "entropy_result = entropy(A)\n",
    "_entropy_result = []\n",
    "for i in range(len(a)):\n",
    "    _entropy_result.append(MRE.entropy(A[i]))\n",
    "\n",
    "print(torch.isclose(torch.hstack(_entropy_result), entropy_result))"
   ]
  },
  {
   "cell_type": "code",
   "execution_count": 8,
   "metadata": {},
   "outputs": [
    {
     "name": "stdout",
     "output_type": "stream",
     "text": [
      "tensor([2.5319, 2.5847, 2.5233, 2.5393], device='cuda:0')\n",
      "tensor([2.5319, 2.5847, 2.5233, 2.5393], device='cuda:0')\n"
     ]
    }
   ],
   "source": [
    "print(torch.hstack(_entropy_result))\n",
    "print(entropy_result)"
   ]
  },
  {
   "cell_type": "markdown",
   "metadata": {},
   "source": [
    "# Joint entropy"
   ]
  },
  {
   "cell_type": "code",
   "execution_count": 9,
   "metadata": {},
   "outputs": [],
   "source": [
    "sigma = 5\n",
    "a = torch.rand(12, 128).cuda()\n",
    "b = torch.rand(4, 12, 128).cuda()\n",
    "\n",
    "rbf_result = RBF(a, sigma)\n",
    "A = rbf_result / rbf_result.size(-1)\n",
    "\n",
    "rbf_result = RBF(b, sigma)\n",
    "B =  rbf_result / rbf_result.size(-1)"
   ]
  },
  {
   "cell_type": "code",
   "execution_count": 10,
   "metadata": {},
   "outputs": [],
   "source": [
    "def jointEntropy(Kx: Tensor, *args: Tensor) -> float:\n",
    "    '''\n",
    "        Parameters\n",
    "        ----------\n",
    "            Kx: Tensor\n",
    "\n",
    "            args: More tensors!!!\n",
    "    '''\n",
    "    A = Kx.clone()\n",
    "    for val in args:\n",
    "        A = A * val\n",
    "    \n",
    "    A = A/A.trace() if A.ndim == 2 else A/(torch.sum(A.diagonal(offset=0, dim1=-1, dim2=-2), dim=1).reshape(-1,1,1))\n",
    "    return entropy(A)"
   ]
  },
  {
   "cell_type": "code",
   "execution_count": 11,
   "metadata": {},
   "outputs": [
    {
     "name": "stdout",
     "output_type": "stream",
     "text": [
      "tensor([True, True, True, True], device='cuda:0')\n",
      "tensor([True, True, True, True], device='cuda:0')\n"
     ]
    }
   ],
   "source": [
    "from IPDL import MatrixBasedRenyisEntropy as MRE\n",
    "\n",
    "je_result = jointEntropy(A, B)\n",
    "_je_result = []\n",
    "for i in range(len(B)):\n",
    "    _je_result.append(MRE.jointEntropy(A, B[i]))\n",
    "\n",
    "print(torch.isclose(torch.hstack(_je_result), je_result))\n",
    "print(torch.hstack(_je_result) == je_result)"
   ]
  },
  {
   "cell_type": "code",
   "execution_count": 12,
   "metadata": {},
   "outputs": [
    {
     "name": "stdout",
     "output_type": "stream",
     "text": [
      "tensor([2.8086, 2.7817, 2.7773, 2.7952], device='cuda:0')\n",
      "tensor([2.8086, 2.7817, 2.7773, 2.7952], device='cuda:0')\n"
     ]
    }
   ],
   "source": [
    "print(torch.hstack(_je_result))\n",
    "print(je_result)"
   ]
  },
  {
   "cell_type": "markdown",
   "metadata": {},
   "source": [
    "# Mutual Information"
   ]
  },
  {
   "cell_type": "code",
   "execution_count": 13,
   "metadata": {},
   "outputs": [],
   "source": [
    "from IPDL import MatrixBasedRenyisEntropy as MRE\n",
    "\n",
    "def mutualInformation(Ax: Tensor, Ay: Tensor) -> float:\n",
    "    entropy_Ax = entropy(Ax)\n",
    "    entropy_Ay = entropy(Ay)\n",
    "    joint_entropy = jointEntropy(Ax, Ay)\n",
    "    return (entropy_Ax + entropy_Ay - joint_entropy)"
   ]
  },
  {
   "cell_type": "code",
   "execution_count": 14,
   "metadata": {},
   "outputs": [],
   "source": [
    "sigma = 5\n",
    "a = torch.rand(12, 128).cuda()\n",
    "b = torch.rand(4, 12, 128).cuda()\n",
    "\n",
    "rbf_result = RBF(a, sigma)\n",
    "A = rbf_result / rbf_result.size(-1)\n",
    "\n",
    "rbf_result = RBF(b, sigma)\n",
    "B =  rbf_result / rbf_result.size(-1)"
   ]
  },
  {
   "cell_type": "code",
   "execution_count": 15,
   "metadata": {},
   "outputs": [
    {
     "name": "stdout",
     "output_type": "stream",
     "text": [
      "torch.Size([])\n",
      "torch.Size([4])\n",
      "torch.Size([4])\n"
     ]
    }
   ],
   "source": [
    "entropy_Ax = entropy(A)\n",
    "entropy_Ay = entropy(B)\n",
    "joint_entropy = jointEntropy(A, B)\n",
    "\n",
    "print(entropy_Ax.shape)\n",
    "print(entropy_Ay.shape)\n",
    "print(joint_entropy.shape)"
   ]
  },
  {
   "cell_type": "code",
   "execution_count": 16,
   "metadata": {},
   "outputs": [
    {
     "data": {
      "text/plain": [
       "tensor([1.1677, 1.1848, 1.1587, 1.1712], device='cuda:0')"
      ]
     },
     "execution_count": 16,
     "metadata": {},
     "output_type": "execute_result"
    }
   ],
   "source": [
    "entropy_Ax + entropy_Ay - joint_entropy"
   ]
  },
  {
   "cell_type": "code",
   "execution_count": 17,
   "metadata": {},
   "outputs": [
    {
     "name": "stdout",
     "output_type": "stream",
     "text": [
      "tensor([True, True, True, True], device='cuda:0')\n"
     ]
    }
   ],
   "source": [
    "mi_estimation = mutualInformation(A, B)\n",
    "\n",
    "_mi_estimation = []\n",
    "for i in range(len(B)):\n",
    "    _mi_estimation.append(MRE.mutualInformation(A, B[i]))\n",
    "\n",
    "print(torch.isclose(torch.stack(_mi_estimation), mi_estimation))"
   ]
  },
  {
   "cell_type": "code",
   "execution_count": 18,
   "metadata": {},
   "outputs": [
    {
     "name": "stdout",
     "output_type": "stream",
     "text": [
      "tensor([1.1677, 1.1848, 1.1587, 1.1712], device='cuda:0')\n",
      "tensor([1.1677, 1.1848, 1.1587, 1.1712], device='cuda:0')\n"
     ]
    }
   ],
   "source": [
    "print(torch.stack(_mi_estimation))\n",
    "print(mi_estimation)"
   ]
  },
  {
   "cell_type": "code",
   "execution_count": null,
   "metadata": {},
   "outputs": [],
   "source": []
  }
 ],
 "metadata": {
  "interpreter": {
   "hash": "15b37510c40f952771730cdce6ed2555d8094a99b7d6886f5b16bebe3e0bdfae"
  },
  "kernelspec": {
   "display_name": "Python 3.9.7 ('HySpecLab')",
   "language": "python",
   "name": "python3"
  },
  "language_info": {
   "codemirror_mode": {
    "name": "ipython",
    "version": 3
   },
   "file_extension": ".py",
   "mimetype": "text/x-python",
   "name": "python",
   "nbconvert_exporter": "python",
   "pygments_lexer": "ipython3",
   "version": "3.9.7"
  },
  "orig_nbformat": 4
 },
 "nbformat": 4,
 "nbformat_minor": 2
}
